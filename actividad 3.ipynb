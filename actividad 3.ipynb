{
 "cells": [
  {
   "cell_type": "markdown",
   "id": "498731c6",
   "metadata": {},
   "source": [
    "# Actividad - Trabajando con Series de Pandas.\n",
    "## Criterios de evaluación.\n",
    "\n",
    "* Se deben utilizar nombres de variables descriptivos y claros (Utilizar la nomeclatura correspondiente para los nombres de variables).\n",
    "* Comentarios claros y concisos que expliquen el propósito de cada sección del código.\n",
    "* Utilizar mensajes de commit **descriptivos**. (Puedes utilizar la extension CONVENTIONAL COMMIT de VS-CODE). \n",
    "* Entrega en tiempo y forma.\n",
    "* Todo el código desarrollado debe ser subido a un repositorio en GitHub (el nombre del repositorio de seguir la siguiente estructura: actividad_tlp3_nombre_apellido).\n",
    "* Para resolver las actividades se debe insertar casillas de codigo entre cada actividad del cuaderno de Jupyter\n",
    "\n",
    "### ¡Importante!\n",
    "**El incumplimiento de los criterios de evaluación restará puntos en la nota final del práctico!**"
   ]
  },
  {
   "cell_type": "markdown",
   "id": "b361a7b6",
   "metadata": {},
   "source": [
    "### **Actividad 1:** \n",
    "\n",
    "Crear Series desde diferentes estructuras.\n",
    "* Crea una Series con los números del 1 al 5\n",
    "* Crea una Series a partir de un diccionario con nombres de países como claves y sus capitales como valores."
   ]
  },
  {
   "cell_type": "code",
   "execution_count": 6,
   "id": "be3dcfb6",
   "metadata": {},
   "outputs": [],
   "source": [
    "import pandas as pd\n"
   ]
  },
  {
   "cell_type": "code",
   "execution_count": 7,
   "id": "26009294",
   "metadata": {},
   "outputs": [
    {
     "name": "stdout",
     "output_type": "stream",
     "text": [
      "0    1\n",
      "1    2\n",
      "2    3\n",
      "3    4\n",
      "4    5\n",
      "dtype: int64\n"
     ]
    }
   ],
   "source": [
    "\n",
    "# todo:\n",
    "serie_numeros = pd.Series([1, 2, 3, 4, 5])\n",
    "print(serie_numeros)"
   ]
  },
  {
   "cell_type": "code",
   "execution_count": 8,
   "id": "8a64f5ce",
   "metadata": {},
   "outputs": [
    {
     "name": "stdout",
     "output_type": "stream",
     "text": [
      "Argentina    Buenos Aires\n",
      "Francia             París\n",
      "Italia               Roma\n",
      "Alemania           Berlín\n",
      "Brasil           Brasilia\n",
      "dtype: object\n"
     ]
    }
   ],
   "source": [
    "#todo:\n",
    "paises_capitales = {\n",
    "    'Argentina': 'Buenos Aires',\n",
    "    'Francia': 'París',\n",
    "    'Italia': 'Roma',\n",
    "    'Alemania': 'Berlín',\n",
    "    'Brasil': 'Brasilia',\n",
    "    }\n",
    "\n",
    "serie_paises = pd.Series(paises_capitales)\n",
    "print(serie_paises)"
   ]
  },
  {
   "cell_type": "markdown",
   "id": "0c239195",
   "metadata": {},
   "source": [
    "### **Actividad 2:** \n",
    "Acceso y selección de elementos.\n",
    "* Usa una Series con tareas (que haceres cotidianos) de una semana\n",
    "* Accede a diferentes elementos a elección.\n",
    "* Cambia los valores de los dias pares.\n"
   ]
  },
  {
   "cell_type": "code",
   "execution_count": 15,
   "id": "3611d25a",
   "metadata": {},
   "outputs": [
    {
     "name": "stdout",
     "output_type": "stream",
     "text": [
      "Tareas originales:\n",
      "Lunes                 Ir al gimnasio\n",
      "Martes               Hacer la comida\n",
      "Miércoles                   Estudiar\n",
      "Jueves              Extender la ropa\n",
      "Viernes      Ir a visitar a mi novia\n",
      "Sábado               Jugar al fútbol\n",
      "Domingo                       Dormir\n",
      "dtype: object\n",
      "\n",
      "Tareas que elijo:\n",
      "Tarea del lunes: Ir al gimnasio\n",
      "Tarea del viernes: Ir a visitar a mi novia\n",
      "\n",
      "Cambie las tareas de dias pares:\n",
      "\n",
      "Tareas actualizadas:\n",
      "Lunes                 Ir al gimnasio\n",
      "Martes               Estudiar Python\n",
      "Miércoles                   Estudiar\n",
      "Jueves                 Jugar basquet\n",
      "Viernes      Ir a visitar a mi novia\n",
      "Sábado             Ir a la Costanera\n",
      "Domingo                       Dormir\n",
      "dtype: object\n"
     ]
    }
   ],
   "source": [
    "\n",
    "# todo:\n",
    "tareas_semana = pd.Series([\n",
    "    'Ir al gimnasio', \n",
    "    'Hacer la comida', \n",
    "    'Estudiar', \n",
    "    'Extender la ropa', \n",
    "    'Ir a visitar a mi novia', \n",
    "    'Jugar al fútbol', \n",
    "    'Dormir'\n",
    "], index=['Lunes', 'Martes', 'Miércoles', 'Jueves', 'Viernes', 'Sábado', 'Domingo'])\n",
    "\n",
    "print(\"Tareas originales:\")\n",
    "print(tareas_semana)\n",
    "\n",
    "print(\"\\nTareas que elijo:\")\n",
    "print(\"Tarea del lunes:\", tareas_semana['Lunes'])\n",
    "print(\"Tarea del viernes:\", tareas_semana['Viernes'])\n",
    "\n",
    "print(\"\\nCambie las tareas de dias pares:\")\n",
    "tareas_semana['Martes'] = 'Estudiar Python'\n",
    "tareas_semana['Jueves'] = 'Jugar basquet'\n",
    "tareas_semana['Sábado'] = 'Ir a la Costanera'\n",
    "\n",
    "print(\"\\nTareas actualizadas:\")\n",
    "print(tareas_semana)"
   ]
  },
  {
   "cell_type": "markdown",
   "id": "70a24b97",
   "metadata": {},
   "source": [
    "### **Actividad 3:**\n",
    "Operaciones aritméticas. \n",
    "* Realiza las operaciones basicas con 2 series cuales quieran.\n",
    "* Eleva los valores de la primer serie a 3 potencias difetentes."
   ]
  },
  {
   "cell_type": "code",
   "execution_count": 18,
   "id": "a9c8ebc7",
   "metadata": {},
   "outputs": [
    {
     "name": "stdout",
     "output_type": "stream",
     "text": [
      "\n",
      "Series originales:\n",
      "Serie uno: [1 2 3 4 5]\n",
      "Serie dos: [ 6  7  8  9 10]\n",
      "\n",
      "Suma: [ 7  9 11 13 15]\n",
      "Resta: [-5 -5 -5 -5 -5]\n",
      "Multiplicación: [ 6 14 24 36 50]\n",
      "División: [0.16666667 0.28571429 0.375      0.44444444 0.5       ]\n",
      "\n",
      "Serie al cuadrado: [ 1  4  9 16 25]\n",
      "Serie uno al cubo: [  1   8  27  64 125]\n",
      "Serie uno a la decima potencia: [      1    1024   59049 1048576 9765625]\n"
     ]
    }
   ],
   "source": [
    "\n",
    "# todo:\n",
    "serie_uno = pd.Series([1, 2, 3, 4, 5])\n",
    "serie_dos = pd.Series([6, 7, 8, 9, 10])\n",
    "\n",
    "print(\"\\nSeries originales:\")\n",
    "print(\"Serie uno:\", serie_uno.values)\n",
    "print(\"Serie dos:\", serie_dos.values)\n",
    "\n",
    "print(\"\\nSuma:\",(serie_uno + serie_dos).values)\n",
    "print(\"Resta:\",(serie_uno - serie_dos).values)\n",
    "print(\"Multiplicación:\",(serie_uno * serie_dos).values)\n",
    "print(\"División:\",(serie_uno / serie_dos).values)\n",
    "\n",
    "print(\"\\nSerie al cuadrado:\",(serie_uno ** 2).values)\n",
    "print(\"Serie uno al cubo:\",(serie_uno ** 3).values)\n",
    "print(\"Serie uno a la decima potencia:\",(serie_uno ** 10).values)\n"
   ]
  },
  {
   "cell_type": "markdown",
   "id": "b8dac397",
   "metadata": {},
   "source": [
    "### **Actividad 4:** \n",
    "Filtrado con condiciones.\n",
    "* Crea una Series de edades de 10 personas.\n",
    "* Muestra solo a los mayores de 18.\n",
    "* Reemplaza a los menores por \"Menor de edad\"."
   ]
  },
  {
   "cell_type": "code",
   "execution_count": 23,
   "id": "d04fd492",
   "metadata": {},
   "outputs": [
    {
     "name": "stdout",
     "output_type": "stream",
     "text": [
      "Edades:\n",
      "Gabriel     15\n",
      "Sergio      22\n",
      "Rodrigo     17\n",
      "Walter      30\n",
      "Matias      19\n",
      "Federico    16\n",
      "Carlos      25\n",
      "Juan        14\n",
      "Ezequiel    20\n",
      "David       32\n",
      "dtype: int64\n",
      "\n",
      "Prsonas mayores de 18:\n",
      "Sergio      22\n",
      "Walter      30\n",
      "Matias      19\n",
      "Carlos      25\n",
      "Ezequiel    20\n",
      "David       32\n",
      "dtype: int64\n",
      "\n",
      "Menores de Edad\n",
      "Gabriel     Menor de edad\n",
      "Sergio                 22\n",
      "Rodrigo     Menor de edad\n",
      "Walter                 30\n",
      "Matias                 19\n",
      "Federico    Menor de edad\n",
      "Carlos                 25\n",
      "Juan        Menor de edad\n",
      "Ezequiel               20\n",
      "David                  32\n",
      "dtype: object\n"
     ]
    }
   ],
   "source": [
    "\n",
    "# todo:\n",
    "nombres = ['Gabriel', 'Sergio', 'Rodrigo', 'Walter', 'Matias', \n",
    "           'Federico', 'Carlos', 'Juan', 'Ezequiel', 'David']\n",
    "edades = [15, 22, 17, 30, 19, 16, 25, 14, 20, 32]\n",
    "\n",
    "serie_edades = pd.Series(edades, index=nombres)\n",
    "print(\"Edades:\")\n",
    "print(serie_edades)\n",
    "\n",
    "mayores = serie_edades[serie_edades > 18]\n",
    "print(\"\\nPrsonas mayores de 18:\")\n",
    "print(mayores)\n",
    "\n",
    "serie_modificada = serie_edades.astype(str)\n",
    "menores = serie_edades < 18\n",
    "serie_modificada[menores] = \"Menor de edad\"\n",
    "\n",
    "print(\"\\nMenores de Edad\")\n",
    "print(serie_modificada)"
   ]
  },
  {
   "cell_type": "markdown",
   "id": "8889d0f2",
   "metadata": {},
   "source": [
    "### Actividad 5:\n",
    "Estadísticas básicas.\n",
    "\n",
    "* Crea una Series con las notas de 10 estudiantes.\n",
    "* Calcula la media, mediana, desviación estándar y máximo.\n",
    "* Muestra cuántos estudiantes aprobaron si el mínimo para aprobar es 6.\n",
    "* Ordenar las notas de manera ascendente y descendente. "
   ]
  },
  {
   "cell_type": "code",
   "execution_count": 25,
   "id": "bc0ec844",
   "metadata": {},
   "outputs": [
    {
     "name": "stdout",
     "output_type": "stream",
     "text": [
      "Notas de 10 estudiantes:\n",
      "Gabriel     10.0\n",
      "Sergio       9.0\n",
      "Rodrigo      5.8\n",
      "Walter       6.3\n",
      "Matias       8.1\n",
      "Federico     3.9\n",
      "Carlos       9.0\n",
      "Juan         6.7\n",
      "Ezequiel     5.2\n",
      "David        7.8\n",
      "dtype: float64\n",
      "\n",
      "Estadísticas:\n",
      "Media: 7.18\n",
      "Mediana: 7.25\n",
      "Desviación estándar: 1.9263090786960089\n",
      "Máximo: 10.0\n",
      "\n",
      "Número de estudiantes aprobados: 7\n",
      "Estudiantes aprobados:\n",
      "Gabriel    10.0\n",
      "Sergio      9.0\n",
      "Walter      6.3\n",
      "Matias      8.1\n",
      "Carlos      9.0\n",
      "Juan        6.7\n",
      "David       7.8\n",
      "dtype: float64\n",
      "\n",
      "Notas ordenadas de manera ascendente:\n",
      "Federico     3.9\n",
      "Ezequiel     5.2\n",
      "Rodrigo      5.8\n",
      "Walter       6.3\n",
      "Juan         6.7\n",
      "David        7.8\n",
      "Matias       8.1\n",
      "Sergio       9.0\n",
      "Carlos       9.0\n",
      "Gabriel     10.0\n",
      "dtype: float64\n",
      "\n",
      "Notas ordenadas de manera descendente:\n",
      "Gabriel     10.0\n",
      "Sergio       9.0\n",
      "Carlos       9.0\n",
      "Matias       8.1\n",
      "David        7.8\n",
      "Juan         6.7\n",
      "Walter       6.3\n",
      "Rodrigo      5.8\n",
      "Ezequiel     5.2\n",
      "Federico     3.9\n",
      "dtype: float64\n"
     ]
    }
   ],
   "source": [
    "\n",
    "# todo:\n",
    "nombres = ['Gabriel', 'Sergio', 'Rodrigo', 'Walter', 'Matias', \n",
    "           'Federico', 'Carlos', 'Juan', 'Ezequiel', 'David']\n",
    "notas = [10, 9, 5.8, 6.3, 8.1, 3.9, 9.0, 6.7, 5.2, 7.8]\n",
    "\n",
    "serie_notas = pd.Series(notas, index=nombres)\n",
    "print(\"Notas de 10 estudiantes:\")\n",
    "print(serie_notas)\n",
    "\n",
    "media = serie_notas.mean()\n",
    "mediana = serie_notas.median()\n",
    "desviacion_estandar = serie_notas.std()\n",
    "maximo = serie_notas.max()\n",
    "\n",
    "print(\"\\nEstadísticas:\")\n",
    "print(\"Media:\", media)\n",
    "print(\"Mediana:\", mediana)  \n",
    "print(\"Desviación estándar:\", desviacion_estandar)\n",
    "print(\"Máximo:\", maximo)\n",
    "\n",
    "aprobados = serie_notas[serie_notas >= 6]\n",
    "print(f\"\\nNúmero de estudiantes aprobados: {len(aprobados)}\")\n",
    "print(\"Estudiantes aprobados:\")\n",
    "print(aprobados)\n",
    "\n",
    "notas_ascendente = serie_notas.sort_values()\n",
    "print(\"\\nNotas ordenadas de manera ascendente:\")\n",
    "print(notas_ascendente)\n",
    "\n",
    "notas_descendente = serie_notas.sort_values(ascending=False)\n",
    "print(\"\\nNotas ordenadas de manera descendente:\")\n",
    "print(notas_descendente)"
   ]
  }
 ],
 "metadata": {
  "kernelspec": {
   "display_name": "Python 3",
   "language": "python",
   "name": "python3"
  },
  "language_info": {
   "codemirror_mode": {
    "name": "ipython",
    "version": 3
   },
   "file_extension": ".py",
   "mimetype": "text/x-python",
   "name": "python",
   "nbconvert_exporter": "python",
   "pygments_lexer": "ipython3",
   "version": "3.12.9"
  }
 },
 "nbformat": 4,
 "nbformat_minor": 5
}
