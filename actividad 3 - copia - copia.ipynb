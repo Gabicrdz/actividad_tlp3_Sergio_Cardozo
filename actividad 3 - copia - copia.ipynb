{
 "cells": [
  {
   "cell_type": "markdown",
   "id": "498731c6",
   "metadata": {},
   "source": [
    "# Actividad - Trabajando con Series de Pandas.\n",
    "## Criterios de evaluación.\n",
    "\n",
    "* Se deben utilizar nombres de variables descriptivos y claros (Utilizar la nomeclatura correspondiente para los nombres de variables).\n",
    "* Comentarios claros y concisos que expliquen el propósito de cada sección del código.\n",
    "* Utilizar mensajes de commit **descriptivos**. (Puedes utilizar la extension CONVENTIONAL COMMIT de VS-CODE). \n",
    "* Entrega en tiempo y forma.\n",
    "* Todo el código desarrollado debe ser subido a un repositorio en GitHub (el nombre del repositorio de seguir la siguiente estructura: actividad_tlp3_nombre_apellido).\n",
    "* Para resolver las actividades se debe insertar casillas de codigo entre cada actividad del cuaderno de Jupyter\n",
    "\n",
    "### ¡Importante!\n",
    "**El incumplimiento de los criterios de evaluación restará puntos en la nota final del práctico!**"
   ]
  },
  {
   "cell_type": "markdown",
   "id": "b361a7b6",
   "metadata": {},
   "source": [
    "### **Actividad 1:** \n",
    "\n",
    "Crear Series desde diferentes estructuras.\n",
    "* Crea una Series con los números del 1 al 5\n",
    "* Crea una Series a partir de un diccionario con nombres de países como claves y sus capitales como valores."
   ]
  },
  {
   "cell_type": "code",
   "execution_count": 6,
   "id": "be3dcfb6",
   "metadata": {},
   "outputs": [],
   "source": [
    "import pandas as pd\n"
   ]
  },
  {
   "cell_type": "code",
   "execution_count": 7,
   "id": "26009294",
   "metadata": {},
   "outputs": [
    {
     "name": "stdout",
     "output_type": "stream",
     "text": [
      "0    1\n",
      "1    2\n",
      "2    3\n",
      "3    4\n",
      "4    5\n",
      "dtype: int64\n"
     ]
    }
   ],
   "source": [
    "\n",
    "# todo:\n",
    "serie_numeros = pd.Series([1, 2, 3, 4, 5])\n",
    "print(serie_numeros)"
   ]
  },
  {
   "cell_type": "code",
   "execution_count": 8,
   "id": "8a64f5ce",
   "metadata": {},
   "outputs": [
    {
     "name": "stdout",
     "output_type": "stream",
     "text": [
      "Argentina    Buenos Aires\n",
      "Francia             París\n",
      "Italia               Roma\n",
      "Alemania           Berlín\n",
      "Brasil           Brasilia\n",
      "dtype: object\n"
     ]
    }
   ],
   "source": [
    "#todo:\n",
    "paises_capitales = {\n",
    "    'Argentina': 'Buenos Aires',\n",
    "    'Francia': 'París',\n",
    "    'Italia': 'Roma',\n",
    "    'Alemania': 'Berlín',\n",
    "    'Brasil': 'Brasilia',\n",
    "    }\n",
    "\n",
    "serie_paises = pd.Series(paises_capitales)\n",
    "print(serie_paises)"
   ]
  },
  {
   "cell_type": "markdown",
   "id": "0c239195",
   "metadata": {},
   "source": [
    "### **Actividad 2:** \n",
    "Acceso y selección de elementos.\n",
    "* Usa una Series con tareas (que haceres cotidianos) de una semana\n",
    "* Accede a diferentes elementos a elección.\n",
    "* Cambia los valores de los dias pares.\n"
   ]
  },
  {
   "cell_type": "code",
   "execution_count": 15,
   "id": "3611d25a",
   "metadata": {},
   "outputs": [
    {
     "name": "stdout",
     "output_type": "stream",
     "text": [
      "Tareas originales:\n",
      "Lunes                 Ir al gimnasio\n",
      "Martes               Hacer la comida\n",
      "Miércoles                   Estudiar\n",
      "Jueves              Extender la ropa\n",
      "Viernes      Ir a visitar a mi novia\n",
      "Sábado               Jugar al fútbol\n",
      "Domingo                       Dormir\n",
      "dtype: object\n",
      "\n",
      "Tareas que elijo:\n",
      "Tarea del lunes: Ir al gimnasio\n",
      "Tarea del viernes: Ir a visitar a mi novia\n",
      "\n",
      "Cambie las tareas de dias pares:\n",
      "\n",
      "Tareas actualizadas:\n",
      "Lunes                 Ir al gimnasio\n",
      "Martes               Estudiar Python\n",
      "Miércoles                   Estudiar\n",
      "Jueves                 Jugar basquet\n",
      "Viernes      Ir a visitar a mi novia\n",
      "Sábado             Ir a la Costanera\n",
      "Domingo                       Dormir\n",
      "dtype: object\n"
     ]
    }
   ],
   "source": [
    "\n",
    "# todo:\n",
    "tareas_semana = pd.Series([\n",
    "    'Ir al gimnasio', \n",
    "    'Hacer la comida', \n",
    "    'Estudiar', \n",
    "    'Extender la ropa', \n",
    "    'Ir a visitar a mi novia', \n",
    "    'Jugar al fútbol', \n",
    "    'Dormir'\n",
    "], index=['Lunes', 'Martes', 'Miércoles', 'Jueves', 'Viernes', 'Sábado', 'Domingo'])\n",
    "\n",
    "print(\"Tareas originales:\")\n",
    "print(tareas_semana)\n",
    "\n",
    "print(\"\\nTareas que elijo:\")\n",
    "print(\"Tarea del lunes:\", tareas_semana['Lunes'])\n",
    "print(\"Tarea del viernes:\", tareas_semana['Viernes'])\n",
    "\n",
    "print(\"\\nCambie las tareas de dias pares:\")\n",
    "tareas_semana['Martes'] = 'Estudiar Python'\n",
    "tareas_semana['Jueves'] = 'Jugar basquet'\n",
    "tareas_semana['Sábado'] = 'Ir a la Costanera'\n",
    "\n",
    "print(\"\\nTareas actualizadas:\")\n",
    "print(tareas_semana)"
   ]
  },
  {
   "cell_type": "markdown",
   "id": "70a24b97",
   "metadata": {},
   "source": [
    "### **Actividad 3:**\n",
    "Operaciones aritméticas. \n",
    "* Realiza las operaciones basicas con 2 series cuales quieran.\n",
    "* Eleva los valores de la primer serie a 3 potencias difetentes."
   ]
  },
  {
   "cell_type": "code",
   "execution_count": 3,
   "id": "a9c8ebc7",
   "metadata": {},
   "outputs": [],
   "source": [
    "\n",
    "# todo:"
   ]
  },
  {
   "cell_type": "markdown",
   "id": "b8dac397",
   "metadata": {},
   "source": [
    "### **Actividad 4:** \n",
    "Filtrado con condiciones.\n",
    "* Crea una Series de edades de 10 personas.\n",
    "* Muestra solo a los mayores de 18.\n",
    "* Reemplaza a los menores por \"Menor de edad\"."
   ]
  },
  {
   "cell_type": "code",
   "execution_count": 4,
   "id": "d04fd492",
   "metadata": {},
   "outputs": [],
   "source": [
    "\n",
    "# todo:"
   ]
  },
  {
   "cell_type": "markdown",
   "id": "8889d0f2",
   "metadata": {},
   "source": [
    "### Actividad 5:\n",
    "Estadísticas básicas.\n",
    "\n",
    "* Crea una Series con las notas de 10 estudiantes.\n",
    "* Calcula la media, mediana, desviación estándar y máximo.\n",
    "* Muestra cuántos estudiantes aprobaron si el mínimo para aprobar es 6.\n",
    "* Ordenar las notas de manera ascendente y descendente. "
   ]
  },
  {
   "cell_type": "code",
   "execution_count": 5,
   "id": "bc0ec844",
   "metadata": {},
   "outputs": [],
   "source": [
    "\n",
    "# todo:\n"
   ]
  }
 ],
 "metadata": {
  "kernelspec": {
   "display_name": "Python 3",
   "language": "python",
   "name": "python3"
  },
  "language_info": {
   "codemirror_mode": {
    "name": "ipython",
    "version": 3
   },
   "file_extension": ".py",
   "mimetype": "text/x-python",
   "name": "python",
   "nbconvert_exporter": "python",
   "pygments_lexer": "ipython3",
   "version": "3.12.9"
  }
 },
 "nbformat": 4,
 "nbformat_minor": 5
}
